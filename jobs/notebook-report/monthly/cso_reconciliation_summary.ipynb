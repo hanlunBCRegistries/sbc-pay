{
 "cells": [
  {
   "cell_type": "markdown",
   "metadata": {
    "collapsed": false,
    "editable": true,
    "jupyter": {
     "outputs_hidden": false
    },
    "slideshow": {
     "slide_type": ""
    },
    "tags": []
   },
   "source": [
    "# Reconciliation Monthly Stats"
   ]
  },
  {
   "cell_type": "markdown",
   "metadata": {
    "collapsed": false,
    "jupyter": {
     "outputs_hidden": false
    }
   },
   "source": [
    "We need to load in these libraries into our notebook in order to query, load, manipulate and view the data"
   ]
  },
  {
   "cell_type": "code",
   "execution_count": null,
   "metadata": {
    "collapsed": false,
    "editable": true,
    "jupyter": {
     "outputs_hidden": false
    },
    "pycharm": {
     "is_executing": false,
     "name": "#%%\n"
    },
    "slideshow": {
     "slide_type": ""
    },
    "tags": []
   },
   "outputs": [],
   "source": [
    "import os\n",
    "from datetime import datetime, timedelta\n",
    "from config import Config\n",
    "import requests\n",
    "import pandas as pd\n",
    "\n",
    "%load_ext sql\n",
    "%config SqlMagic.displaylimit = 5"
   ]
  },
  {
   "cell_type": "markdown",
   "metadata": {
    "editable": true,
    "slideshow": {
     "slide_type": ""
    },
    "tags": [
     "parameters"
    ]
   },
   "source": [
    "# Parameters cell for external parameters via papermill (job running this notebook will insert a parameter cell below this). This cell has a tag of with the name \"parameters\" that is used by papermill\n",
    "\n",
    "e.g.\n",
    "param1 = \"some_value\""
   ]
  },
  {
   "cell_type": "markdown",
   "metadata": {
    "collapsed": false,
    "jupyter": {
     "outputs_hidden": false
    }
   },
   "source": [
    "This will create the connection to the database and prep the jupyter magic for SQL"
   ]
  },
  {
   "cell_type": "code",
   "execution_count": null,
   "metadata": {
    "collapsed": false,
    "editable": true,
    "jupyter": {
     "outputs_hidden": false
    },
    "pycharm": {
     "is_executing": false,
     "name": "#%%\n"
    },
    "slideshow": {
     "slide_type": ""
    },
    "tags": []
   },
   "outputs": [],
   "source": [
    "%sql $Config.SQLALCHEMY_DATABASE_URI"
   ]
  },
  {
   "cell_type": "markdown",
   "metadata": {
    "collapsed": false,
    "jupyter": {
     "outputs_hidden": false
    }
   },
   "source": [
    "Simplest query to run to ensure our libraries are loaded and our DB connection is working"
   ]
  },
  {
   "cell_type": "code",
   "execution_count": null,
   "metadata": {
    "collapsed": false,
    "jupyter": {
     "outputs_hidden": false
    },
    "pycharm": {
     "is_executing": false,
     "name": "#%%\n"
    }
   },
   "outputs": [],
   "source": [
    "%%sql\n",
    "set time zone 'UTC';"
   ]
  },
  {
   "cell_type": "markdown",
   "metadata": {},
   "source": [
    "Query ..."
   ]
  },
  {
   "cell_type": "code",
   "execution_count": null,
   "metadata": {
    "editable": true,
    "slideshow": {
     "slide_type": ""
    },
    "tags": []
   },
   "outputs": [],
   "source": [
    "%%sql monthly_reconciliation_summary  <<\n",
    "SELECT \n",
    "    id, \n",
    "    (created_on AT TIME ZONE 'UTC' AT TIME ZONE 'America/Vancouver')::date AS created_date,  \n",
    "    total,  \n",
    "    service_fees, \n",
    "    payment_method_code, \n",
    "    corp_type_code, \n",
    "    created_by, \n",
    "    payment_date\n",
    "FROM \n",
    "    invoices\n",
    "WHERE \n",
    "    corp_type_code = 'CSO'\n",
    "    AND total > 0\n",
    "    AND invoice_status_code = 'PAID'\n",
    "    AND payment_method_code in ('PAD','EJV')\n",
    "    AND created_on AT TIME ZONE 'UTC' AT TIME ZONE 'America/Vancouver'  > (current_date - 1 - interval '1 months' - interval '5 days')::date\n",
    "    AND created_on AT TIME ZONE 'UTC' AT TIME ZONE 'America/Vancouver' <= (current_date - 1)::date\n",
    "ORDER BY \n",
    "    1;"
   ]
  },
  {
   "cell_type": "markdown",
   "metadata": {},
   "source": [
    "Save to CSV"
   ]
  },
  {
   "cell_type": "code",
   "execution_count": null,
   "metadata": {
    "editable": true,
    "slideshow": {
     "slide_type": ""
    },
    "tags": []
   },
   "outputs": [],
   "source": [
    "filename_summary = os.path.join(os.getcwd(), r'data/')+partner_code+'_monthly_reconciliation_summary_' + datetime.strftime(datetime.now()-timedelta(1), '%Y-%m') +'.csv'\n",
    "df_summary = monthly_reconciliation_summary.DataFrame()\n",
    "with open(filename_summary, 'w') as f:\n",
    "    f.write('Monthly Reconciliation Summary:\\n\\n')\n",
    "    if df_summary.empty:\n",
    "        f.write('No Data Retrieved')\n",
    "    else:\n",
    "        df_summary.to_csv(f, sep=',', encoding='utf-8', index=False)"
   ]
  },
  {
   "cell_type": "code",
   "execution_count": null,
   "metadata": {
    "editable": true,
    "slideshow": {
     "slide_type": ""
    },
    "tags": []
   },
   "outputs": [],
   "source": [
    "%%sql monthly_reconciliation_disbursed  <<\n",
    "SELECT id, (disbursement_date AT TIME ZONE 'UTC' AT TIME ZONE 'America/Vancouver')::date, total, service_fees, payment_method_code, corp_type_code,created_by\n",
    "FROM invoices\n",
    "WHERE corp_type_code = 'CSO'\n",
    "AND invoice_status_code = 'PAID'\n",
    "AND payment_method_code in ('PAD','EJV')\n",
    "AND disbursement_status_code = 'COMPLETED'\n",
    "AND disbursement_date AT TIME ZONE 'UTC' AT TIME ZONE 'America/Vancouver'  > (current_date - 1 - interval '1 months')::date\n",
    "AND disbursement_date AT TIME ZONE 'UTC' AT TIME ZONE 'America/Vancouver'  <= (current_date - 1)::date\n",
    "order by 1;"
   ]
  },
  {
   "cell_type": "markdown",
   "metadata": {},
   "source": [
    "Save to another CSV"
   ]
  },
  {
   "cell_type": "code",
   "execution_count": null,
   "metadata": {
    "editable": true,
    "slideshow": {
     "slide_type": ""
    },
    "tags": []
   },
   "outputs": [],
   "source": [
    "filename_disbursed = os.path.join(os.getcwd(), r'data/')+partner_code+'_monthly_reconciliation_disbursed_' + datetime.strftime(datetime.now()-timedelta(1), '%Y-%m') +'.csv'\n",
    "df_disbursed = monthly_reconciliation_disbursed.DataFrame()\n",
    "with open(filename_disbursed, 'a') as f:\n",
    "    f.write('Monthly Reconciliation Disbursed:\\n\\n')\n",
    "    if df_disbursed.empty:\n",
    "        f.write('No Data Retrieved')\n",
    "    else:\n",
    "        df_disbursed.to_csv(f, sep=',', encoding='utf-8', index=False)\n"
   ]
  },
  {
   "cell_type": "markdown",
   "metadata": {},
   "source": [
    "Report Generation"
   ]
  },
  {
   "cell_type": "code",
   "execution_count": null,
   "metadata": {},
   "outputs": [],
   "source": [
    "# Get the API base URL from the environment variable\n",
    "API_BASE_URL = os.getenv('REPORT_API', '')\n",
    "if not API_BASE_URL:\n",
    "    raise ValueError(\"The REPORT_API environment variable is not set or is empty\")\n",
    "\n",
    "url = API_BASE_URL\n",
    "headers = {\n",
    "    'Authorization': 'Bearer your_jwt_token',\n",
    "    'Content-Type': 'application/json',\n",
    "    'Accept': 'application/pdf'\n",
    "}\n",
    "\n",
    "query = \"\"\"\n",
    "SELECT\n",
    "    COUNT(*)                          AS transaction_count,\n",
    "    pli.description,\n",
    "    i.payment_method_code,\n",
    "    'Courts Online' AS corp_type\n",
    "FROM \n",
    "    invoices i\n",
    "JOIN \n",
    "    payment_line_items pli ON i.id = pli.invoice_id\n",
    "WHERE \n",
    "    i.corp_type_code = 'CSO'\n",
    "    AND i.invoice_status_code = 'PAID'\n",
    "    AND i.payment_method_code IN ('PAD', 'EJV')\n",
    "    AND created_on AT TIME ZONE 'UTC' AT TIME ZONE 'America/Vancouver' >= '2023-05-01'\n",
    "    AND created_on AT TIME ZONE 'UTC' AT TIME ZONE 'America/Vancouver' < '2023-07-01'\n",
    "GROUP BY \n",
    "    pli.description,\n",
    "    i.payment_method_code\n",
    "ORDER BY \n",
    "    transaction_count\n",
    "\"\"\"\n",
    "result = %sql $query\n",
    "\n",
    "# Convert the result to a DataFrame\n",
    "df = result.DataFrame()\n",
    "\n",
    "# Convert DataFrame to JSON-compatible format\n",
    "query_results = df.to_dict(orient='records')\n",
    "# Define the request body\n",
    "data = {\n",
    "    \"templateVars\": {\n",
    "        \"accountId\": 345,\n",
    "        \"accountName\": \"hello\",\n",
    "        \"invoiceNumber\": \"REG0123456\",\n",
    "        \"receiptNumber\": \"99123\",\n",
    "        \"paymentMethodDescription\": \"Credit Card\",\n",
    "        \"invoice\": {\n",
    "            \"_links\": {\n",
    "                \"self\": \"http://auth-web.dev.com/api/v1/payment-requests/2\",\n",
    "                \"collection\": \"http://auth-web.dev.com/api/v1/payment-requests?invoice_id=2\"\n",
    "            },\n",
    "            \"bcolAccount\": \"TEST\",\n",
    "            \"corpTypeCode\": \"CP\",\n",
    "            \"createdName\": \"test name\",\n",
    "            \"id\": 2,\n",
    "            \"createdBy\": \"test\",\n",
    "            \"paymentAccount\": {\n",
    "                \"accountId\": \"1234\",\n",
    "                \"billable\": True\n",
    "            },\n",
    "            \"paymentDate\": \"2024-02-27T09:52:03+00:00\",\n",
    "            \"total\": 130.0,\n",
    "            \"paymentMethod\": \"CC\",\n",
    "            \"overdueDate\": \"2024-03-01T09:52:02+00:00\",\n",
    "            \"paid\": 30.0,\n",
    "            \"details\": [\n",
    "                {\n",
    "                    \"label\": \"hello\",\n",
    "                    \"value\": \"testing\"\n",
    "                }\n",
    "            ],\n",
    "            \"serviceFees\": 0.0,\n",
    "            \"updatedOn\": \"2024-02-27T09:52:03+00:00\",\n",
    "            \"lineItems\": [\n",
    "                {\n",
    "                    \"waivedFees\": None,\n",
    "                    \"waivedBy\": None,\n",
    "                    \"gst\": 0.0,\n",
    "                    \"pst\": 0.0,\n",
    "                    \"filingFees\": 10.0,\n",
    "                    \"id\": 2,\n",
    "                    \"serviceFees\": 0.0,\n",
    "                    \"priorityFees\": 0.0,\n",
    "                    \"futureEffectiveFees\": 0.0,\n",
    "                    \"quantity\": 1,\n",
    "                    \"statusCode\": \"ACTIVE\",\n",
    "                    \"total\": 10.0,\n",
    "                    \"description\": \"NSF Charges\"\n",
    "                },\n",
    "                {\n",
    "                    \"waivedFees\": None,\n",
    "                    \"waivedBy\": None,\n",
    "                    \"gst\": 0.0,\n",
    "                    \"pst\": 0.0,\n",
    "                    \"filingFees\": 10.0,\n",
    "                    \"id\": 1,\n",
    "                    \"serviceFees\": 0.0,\n",
    "                    \"priorityFees\": 0.0,\n",
    "                    \"futureEffectiveFees\": 0.0,\n",
    "                    \"quantity\": 1,\n",
    "                    \"statusCode\": \"ACTIVE\",\n",
    "                    \"total\": 10.0,\n",
    "                    \"description\": \"Good Product\"\n",
    "                }\n",
    "            ],\n",
    "            \"createdOn\": \"2024-02-27T09:51:55+00:00\",\n",
    "            \"references\": [\n",
    "                {\n",
    "                    \"invoiceNumber\": \"REG00001\",\n",
    "                    \"id\": 2,\n",
    "                    \"statusCode\": \"COMPLETED\"\n",
    "                }\n",
    "            ],\n",
    "            \"receipts\": [\n",
    "                {\n",
    "                    \"receiptAmount\": 100.0,\n",
    "                    \"id\": 2,\n",
    "                    \"receiptDate\": \"2024-02-27T09:52:03.018524\",\n",
    "                    \"receiptNumber\": \"1234567890\"\n",
    "                }\n",
    "            ],\n",
    "            \"statusCode\": \"COMPLETED\",\n",
    "            \"folioNumber\": \"1234567890\"\n",
    "        },\n",
    "        \"queryResults\": query_results  # Include the query results in the request body\n",
    "    },\n",
    "    \"templateName\": \"payment_receipt\",\n",
    "    \"reportName\": \"payment_receipt\"\n",
    "}\n",
    "\n",
    "# Send the POST request\n",
    "response = requests.post(url, headers=headers, json=data)\n",
    "\n",
    "# Check if the response is successful\n",
    "if response.status_code == 200:\n",
    "    # Get the PDF content from the response\n",
    "    pdf_content = response.content\n",
    "    \n",
    "    # Save the PDF content to a file\n",
    "    with open('payment_receipt.pdf', 'wb') as pdf_file:\n",
    "        pdf_file.write(pdf_content)\n",
    "    \n",
    "    print(\"PDF report saved successfully as 'payment_receipt.pdf'\")\n",
    "else:\n",
    "    print('Failed to get the report:', response.text)"
   ]
  }
 ],
 "metadata": {
  "celltoolbar": "Tags",
  "kernelspec": {
   "display_name": "Python 3 (ipykernel)",
   "language": "python",
   "name": "python3"
  },
  "language_info": {
   "codemirror_mode": {
    "name": "ipython",
    "version": 3
   },
   "file_extension": ".py",
   "mimetype": "text/x-python",
   "name": "python",
   "nbconvert_exporter": "python",
   "pygments_lexer": "ipython3",
   "version": "3.11.4"
  },
  "pycharm": {
   "stem_cell": {
    "cell_type": "raw",
    "metadata": {
     "collapsed": false
    },
    "source": []
   }
  },
  "vscode": {
   "interpreter": {
    "hash": "fcb35bce15c55b4cacb5112e543368f86c7f98ed17acd45e6841ee83ed1df6e3"
   }
  }
 },
 "nbformat": 4,
 "nbformat_minor": 4
}
